{
 "cells": [
  {
   "cell_type": "markdown",
   "id": "85cc6e15",
   "metadata": {},
   "source": [
    "\n",
    "\n",
    "### Analysis 1: **Do Frequent Video Chats Substitute for In-Person Visits in Maintaining Happiness?**\n",
    "   - **Research Question**: Can virtual social interactions (video calls) effectively replace in-person visits for maintaining happiness and connection?\n",
    "   - **Variables**:\n",
    "     - Video calls: `CONNECTION_activities_video_chat_p3m` (frequency of video chats with others)\n",
    "     - In-person visits: `CONNECTION_activities_visited_family_p3m`, `CONNECTION_activities_visited_friends_p3m`\n",
    "     - Happiness: `WELLNESS_subjective_happiness_scale_score`\n",
    "   - **Planned Analysis**:\n",
    "     - Compare happiness scores for people with high video chat frequencies but low in-person visit frequencies to those who primarily connect in person.\n",
    "     - Use t-tests or ANOVA to see if happiness significantly differs between virtual vs. in-person connectors.\n",
    "   - **Expected Outcome**: Video calls may provide some emotional benefits similar to in-person visits, but those who have more in-person interactions might still report slightly higher happiness scores.\n",
    "\n",
    "### Analysis 2: **Are People with High Family and Friend Support Less Likely to Feel Trapped by Work?**\n",
    "   - **Research Question**: Does strong social support from family and friends correlate with lower feelings of being “trapped” by work or life circumstances?\n",
    "   - **Variables**:\n",
    "     - Social support: `PSYCH_zimet_multidimensional_social_support_scale_family_helps`, `PSYCH_zimet_multidimensional_social_support_scale_help`\n",
    "     - Burnout indicator: `WELLNESS_malach_pines_burnout_measure_trapped`\n",
    "   - **Planned Analysis**:\n",
    "     - Use regression or correlation to examine the relationship between social support levels and feelings of entrapment.\n",
    "     - Scatter plots or heat maps could highlight the distribution of “trapped” scores across levels of family/friend support.\n",
    "   - **Expected Outcome**: Those with higher support levels might feel less trapped in their circumstances, suggesting that social support alleviates feelings of restriction.\n",
    "\n",
    "### Analysis 3: **Are People Who Engage in Online Games with Friends Less Lonely?**\n",
    "   - **Research Question**: Does playing online games with friends reduce feelings of loneliness, compared to those who don’t engage in online social gaming?\n",
    "   - **Variables**:\n",
    "     - Online social gaming: `CONNECTION_activities_onlinegames_p3m`\n",
    "     - Loneliness indicators: `LONELY_ucla_loneliness_scale_left_out`, `LONELY_dejong_emotional_social_loneliness_scale_score`\n",
    "   - **Planned Analysis**:\n",
    "     - Compare loneliness scores between people who play online games frequently with friends vs. those who do not.\n",
    "     - T-tests or ANOVA could reveal if frequent online gamers report significantly lower loneliness scores.\n",
    "   - **Expected Outcome**: Playing online games with friends may help reduce loneliness scores, as it provides a social outlet for interaction.\n"
   ]
  }
 ],
 "metadata": {
  "kernelspec": {
   "display_name": "Python 3 (ipykernel)",
   "language": "python",
   "name": "python3"
  },
  "language_info": {
   "codemirror_mode": {
    "name": "ipython",
    "version": 3
   },
   "file_extension": ".py",
   "mimetype": "text/x-python",
   "name": "python",
   "nbconvert_exporter": "python",
   "pygments_lexer": "ipython3",
   "version": "3.11.6"
  }
 },
 "nbformat": 4,
 "nbformat_minor": 5
}

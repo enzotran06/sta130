{
 "cells": [
  {
   "cell_type": "code",
   "execution_count": 1,
   "id": "7ed6f3fa",
   "metadata": {},
   "outputs": [
    {
     "data": {
      "text/plain": [
       "0.66428"
      ]
     },
     "execution_count": 1,
     "metadata": {},
     "output_type": "execute_result"
    }
   ],
   "source": [
    "# Monte Hall Simulation Code -- not the only way to code this, but it's what Prof. Schwartz came up with...\n",
    "\n",
    "import numpy as np\n",
    "all_door_options = (1,2,3)  # tuple\n",
    "my_door_choice = 1  # 1,2,3\n",
    "i_won = 0\n",
    "reps = 100000\n",
    "for i in range(reps):\n",
    "    secret_winning_door = np.random.choice(all_door_options)\n",
    "    all_door_options_list = list(all_door_options)\n",
    "    # take the secret_winning_door, so we don't show it as a \"goat\" losing door\n",
    "    all_door_options_list.remove(secret_winning_door)\n",
    "    try:\n",
    "        # if my_door_choice was secret_winning_door then it's already removed\n",
    "        all_door_options_list.remove(my_door_choice)\n",
    "    except:\n",
    "        pass\n",
    "    # show a \"goat\" losing door and remove it\n",
    "    goat_door_reveal = np.random.choice(all_door_options_list)\n",
    "    all_door_options_list.remove(goat_door_reveal)\n",
    "\n",
    "    # put the secret_winning_door back in if it wasn't our choice\n",
    "    # we previously removed it, so it would be shown as a  \"goat\" losing door\n",
    "    if secret_winning_door != my_door_choice:\n",
    "        all_door_options_list.append(secret_winning_door)\n",
    "    # if secret_winning_door was our choice then all that's left in the list is a \"goat\" losing door\n",
    "    # if secret_winning_door wasn't our choice then it's all that will be left in the list\n",
    "\n",
    "    # swap strategy\n",
    "    my_door_choice = all_door_options_list[0]\n",
    "\n",
    "    if my_door_choice == secret_winning_door:\n",
    "        i_won += 1\n",
    "\n",
    "i_won/reps"
   ]
  },
  {
   "cell_type": "code",
   "execution_count": null,
   "id": "bf12dc79",
   "metadata": {},
   "outputs": [],
   "source": [
    "\"\"\"\n",
    "1. \n",
    "\n",
    "This code simulates the Monty Hall problem, where you have a choice between three doors, one of which hides a prize (the secret winning door), while the others have goats (losing doors). The code runs 100,000 simulations to estimate the probability of winning if you always switch doors after one goat is revealed.\n",
    "\n",
    "Here’s how it works:\n",
    "\n",
    "Setup:\n",
    "\n",
    "There are three door options (1, 2, 3), and the player's initial choice is always door 1 (my_door_choice = 1).\n",
    "The variable i_won tracks the number of times the player wins by switching doors.\n",
    "Loop:\n",
    "\n",
    "For each iteration (100,000 times), a secret winning door is randomly selected.\n",
    "Non-winning and non-chosen doors are identified and one of them is revealed (goat door).\n",
    "The player then switches to the remaining door (the unchosen, unrevealed door).\n",
    "Win check:\n",
    "\n",
    "If the new door choice matches the secret winning door, the player wins, and i_won is incremented.\n",
    "Final result:\n",
    "\n",
    "The fraction i_won/reps gives the proportion of wins when always switching doors.\"\"\""
   ]
  },
  {
   "cell_type": "code",
   "execution_count": 1,
   "id": "5ecd3997",
   "metadata": {},
   "outputs": [
    {
     "name": "stdout",
     "output_type": "stream",
     "text": [
      "0.66356\n"
     ]
    }
   ],
   "source": [
    "import numpy as np\n",
    "\n",
    "doors = [1, 2, 3]\n",
    "wins = 0\n",
    "reps = 100000\n",
    "\n",
    "for _ in range(reps):\n",
    "    winning_door = np.random.choice(doors)\n",
    "    player_choice = 1  # Always choosing door 1\n",
    "    \n",
    "    # Monty reveals a goat door\n",
    "    available_doors = [door for door in doors if door != player_choice and door != winning_door]\n",
    "    goat_door = np.random.choice(available_doors)\n",
    "    \n",
    "    # Player switches to the remaining door\n",
    "    remaining_door = [door for door in doors if door != player_choice and door != goat_door][0]\n",
    "    \n",
    "    # Check if the switch wins\n",
    "    if remaining_door == winning_door:\n",
    "        wins += 1\n",
    "\n",
    "# Calculate win percentage\n",
    "win_percentage = wins / reps\n",
    "print(win_percentage)\n"
   ]
  },
  {
   "cell_type": "code",
   "execution_count": 2,
   "id": "e25d2f4f",
   "metadata": {},
   "outputs": [
    {
     "data": {
      "text/plain": [
       "\"\\n2. \\nOriginal Code:\\nIt's functional but somewhat verbose. The use of try-except for list removal makes it a bit harder to follow.\\nProf. Schwartz's code might prioritize flexibility or correctness in corner cases but at the cost of clarity.\\n\\nSimplified Code:\\nIt’s more explicit and easier to follow. Variables are clearly named to reflect their purpose, and list comprehensions make the logic more direct.\\nI prefer this version because I value clarity and conciseness, as it eliminates unnecessary steps while keeping the simulation logic intact.\\n\\n\""
      ]
     },
     "execution_count": 2,
     "metadata": {},
     "output_type": "execute_result"
    }
   ],
   "source": [
    "\"\"\"\n",
    "2. \n",
    "Original Code:\n",
    "It's functional but somewhat verbose. The use of try-except for list removal makes it a bit harder to follow.\n",
    "Prof. Schwartz's code might prioritize flexibility or correctness in corner cases but at the cost of clarity.\n",
    "\n",
    "Simplified Code:\n",
    "It’s more explicit and easier to follow. Variables are clearly named to reflect their purpose, and list comprehensions make the logic more direct.\n",
    "I prefer this version because I value clarity and conciseness, as it eliminates unnecessary steps while keeping the simulation logic intact.\n",
    "\n",
    "\"\"\""
   ]
  },
  {
   "cell_type": "code",
   "execution_count": 2,
   "id": "c04e545f",
   "metadata": {},
   "outputs": [
    {
     "name": "stdout",
     "output_type": "stream",
     "text": [
      "0.6675\n"
     ]
    }
   ],
   "source": [
    "import numpy as np  # Importing numpy for random choice functionality\n",
    "\n",
    "doors = [1, 2, 3]  # List representing the three doors\n",
    "wins = 0           # Counter to keep track of the number of wins\n",
    "reps = 100000      # Number of repetitions for the simulation\n",
    "\n",
    "# Loop through the simulation reps times\n",
    "for _ in range(reps):\n",
    "    winning_door = np.random.choice(doors)  # Randomly pick the winning door\n",
    "    player_choice = 1  # Player always starts by choosing door 1\n",
    "    \n",
    "    # Monty reveals a goat door (i.e., a door that isn't the player's choice or the winning door)\n",
    "    available_doors = [door for door in doors if door != player_choice and door != winning_door]\n",
    "    goat_door = np.random.choice(available_doors)  # Randomly select a goat door from available options\n",
    "    \n",
    "    # Player switches to the remaining door (the one that isn't their original choice or the revealed goat door)\n",
    "    remaining_door = [door for door in doors if door != player_choice and door != goat_door][0]\n",
    "    \n",
    "    # Check if the player wins by switching to the remaining door\n",
    "    if remaining_door == winning_door:\n",
    "        wins += 1  # Increment the win counter if the remaining door is the winning door\n",
    "\n",
    "# Calculate the win percentage after all repetitions\n",
    "win_percentage = wins / reps\n",
    "print(win_percentage)  # Output the win percentage\n"
   ]
  },
  {
   "cell_type": "code",
   "execution_count": null,
   "id": "d1d6ad6d",
   "metadata": {},
   "outputs": [],
   "source": [
    "\"\"\"Interaction Summary:\n",
    "Initial Code Review (Monty Hall Simulation):\n",
    "\n",
    "You shared a Monty Hall simulation code written by Prof. Schwartz and asked for a brief explanation of how it worked.\n",
    "I explained that the code simulates the Monty Hall problem, running 100,000 iterations to estimate the probability of winning by switching doors. The simulation randomly selects a winning door and determines whether switching doors leads to a win. I highlighted the core logic of how the player's choice is updated and the goat door is revealed.\n",
    "Request for Code Simplification:\n",
    "\n",
    "You asked for a simpler, more streamlined version of the code to make the process clearer and easier to understand.\n",
    "I provided a simplified version that avoids unnecessary steps like list removals and exception handling, using more descriptive variable names and list comprehensions. I aimed to improve clarity by reducing the complexity of the code.\n",
    "Comparison Between Original and Simplified Code:\n",
    "\n",
    "I compared the readability and explainability of the original code and the simplified version. The original code, while functional, was a bit verbose and harder to follow due to the use of a try-except block and list manipulations. The simplified version used clearer variable names and more direct logic, aligning better with your preference for concise, easy-to-read code.\n",
    "Annotated Code with Comments:\n",
    "\n",
    "You requested comments explaining each line of the simplified code.\n",
    "I provided an updated version of the code with detailed comments explaining the purpose of each line, from setting up the doors and simulating the game to determining the win percentage.\n",
    "\"\"\""
   ]
  },
  {
   "cell_type": "code",
   "execution_count": null,
   "id": "667d4bc1",
   "metadata": {},
   "outputs": [],
   "source": [
    "# Markov Chains and Text Generation\n",
    "from IPython.display import YouTubeVideo\n",
    "YouTubeVideo('56mGTszb_iM', width = 550)"
   ]
  },
  {
   "cell_type": "code",
   "execution_count": 1,
   "id": "8e25d154",
   "metadata": {},
   "outputs": [
    {
     "name": "stdout",
     "output_type": "stream",
     "text": [
      "ChatBot: princess who lived in a distant land a distant land a wizard cast a castle the harvest festival\n"
     ]
    }
   ],
   "source": [
    "#4.\n",
    "import random\n",
    "import re\n",
    "from collections import defaultdict\n",
    "\n",
    "class MarkovianChatBot:\n",
    "    def __init__(self):\n",
    "        self.model = defaultdict(list)\n",
    "\n",
    "    def train(self, text):\n",
    "        words = re.findall(r'\\w+', text.lower())\n",
    "        for i in range(len(words) - 1):\n",
    "            self.model[words[i]].append(words[i + 1])\n",
    "\n",
    "    def generate_response(self, seed_word, max_length=50):\n",
    "        if seed_word not in self.model:\n",
    "            return \"I don't know how to respond to that.\"\n",
    "        \n",
    "        response = [seed_word]\n",
    "        current_word = seed_word\n",
    "        for _ in range(max_length - 1):\n",
    "            next_words = self.model.get(current_word)\n",
    "            if not next_words:\n",
    "                break\n",
    "            current_word = random.choice(next_words)\n",
    "            response.append(current_word)\n",
    "        \n",
    "        return ' '.join(response)\n",
    "        \n",
    "# Sample stories for training the chatbot\n",
    "stories = \"\"\"\n",
    "Once upon a time, there was a princess who lived in a castle.\n",
    "The knight fought the dragon and saved the kingdom.\n",
    "In a distant land, a wizard cast a powerful spell.\n",
    "The villagers gathered in the town square to celebrate the harvest festival.\n",
    "\"\"\"\n",
    "\n",
    "# Initialize and train the chatbot\n",
    "chatbot = MarkovianChatBot()\n",
    "chatbot.train(stories)\n",
    "\n",
    "# Interacting with the chatbot\n",
    "seed_word = \"princess\"\n",
    "response = chatbot.generate_response(seed_word)\n",
    "print(f\"ChatBot: {response}\")\n"
   ]
  },
  {
   "cell_type": "code",
   "execution_count": 2,
   "id": "bb99c77f",
   "metadata": {},
   "outputs": [
    {
     "name": "stdout",
     "output_type": "stream",
     "text": [
      "   id   book  book_num                 chapter  chapter_num  \\\n",
      "0   1  Water         1  The Boy in the Iceberg            1   \n",
      "1   2  Water         1  The Boy in the Iceberg            1   \n",
      "2   3  Water         1  The Boy in the Iceberg            1   \n",
      "3   4  Water         1  The Boy in the Iceberg            1   \n",
      "4   5  Water         1  The Boy in the Iceberg            1   \n",
      "5   6  Water         1  The Boy in the Iceberg            1   \n",
      "6   7  Water         1  The Boy in the Iceberg            1   \n",
      "7   8  Water         1  The Boy in the Iceberg            1   \n",
      "8   9  Water         1  The Boy in the Iceberg            1   \n",
      "9  10  Water         1  The Boy in the Iceberg            1   \n",
      "\n",
      "           character                                          full_text  \\\n",
      "0             Katara  Water. Earth. Fire. Air. My grandmother used t...   \n",
      "1  Scene Description  As the title card fades, the scene opens onto ...   \n",
      "2              Sokka  It's not getting away from me this time. [Clos...   \n",
      "3  Scene Description  The shot pans quickly from the boy to Katara, ...   \n",
      "4             Katara                  [Happily surprised.] Sokka, look!   \n",
      "5              Sokka  [Close-up of Sokka; whispering.] Sshh! Katara,...   \n",
      "6  Scene Description  Behind Sokka, Katara is still making circular ...   \n",
      "7             Katara  [Struggling with the water that passes right i...   \n",
      "8  Scene Description  The bubble containing her fish slowly drifts a...   \n",
      "9             Katara                       [Exclaims indignantly.] Hey!   \n",
      "\n",
      "                                     character_words  \\\n",
      "0  Water. Earth. Fire. Air. My grandmother used t...   \n",
      "1                                                NaN   \n",
      "2  It's not getting away from me this time.  Watc...   \n",
      "3                                                NaN   \n",
      "4                                       Sokka, look!   \n",
      "5  Sshh! Katara, you're going to scare it away.  ...   \n",
      "6                                                NaN   \n",
      "7                          But, Sokka! I caught one!   \n",
      "8                                                NaN   \n",
      "9                                               Hey!   \n",
      "\n",
      "                                              writer     director  imdb_rating  \n",
      "0  ‎Michael Dante DiMartino, Bryan Konietzko, Aar...  Dave Filoni          8.1  \n",
      "1  ‎Michael Dante DiMartino, Bryan Konietzko, Aar...  Dave Filoni          8.1  \n",
      "2  ‎Michael Dante DiMartino, Bryan Konietzko, Aar...  Dave Filoni          8.1  \n",
      "3  ‎Michael Dante DiMartino, Bryan Konietzko, Aar...  Dave Filoni          8.1  \n",
      "4  ‎Michael Dante DiMartino, Bryan Konietzko, Aar...  Dave Filoni          8.1  \n",
      "5  ‎Michael Dante DiMartino, Bryan Konietzko, Aar...  Dave Filoni          8.1  \n",
      "6  ‎Michael Dante DiMartino, Bryan Konietzko, Aar...  Dave Filoni          8.1  \n",
      "7  ‎Michael Dante DiMartino, Bryan Konietzko, Aar...  Dave Filoni          8.1  \n",
      "8  ‎Michael Dante DiMartino, Bryan Konietzko, Aar...  Dave Filoni          8.1  \n",
      "9  ‎Michael Dante DiMartino, Bryan Konietzko, Aar...  Dave Filoni          8.1  \n",
      "id                   int64\n",
      "book                object\n",
      "book_num             int64\n",
      "chapter             object\n",
      "chapter_num          int64\n",
      "character           object\n",
      "full_text           object\n",
      "character_words     object\n",
      "writer              object\n",
      "director            object\n",
      "imdb_rating        float64\n",
      "dtype: object\n",
      "character\n",
      "Scene Description    3393\n",
      "Aang                 1796\n",
      "Sokka                1639\n",
      "Katara               1437\n",
      "Zuko                  776\n",
      "                     ... \n",
      "The Hippo               1\n",
      "Audience                1\n",
      "Young Mai               1\n",
      "Old woman               1\n",
      "Katara and Sokka        1\n",
      "Name: count, Length: 374, dtype: int64\n",
      "chapter\n",
      "The Fortuneteller                          331\n",
      "The Warriors of Kyoshi                     304\n",
      "City of Walls and Secrets                  293\n",
      "Jet                                        290\n",
      "The Desert                                 286\n",
      "                                          ... \n",
      "The Siege of the North, Part 2             161\n",
      "Sozin's Comet, Part 3: Into the Inferno    151\n",
      "The Blue Spirit                            144\n",
      "Appa's Lost Days                           106\n",
      "Sozin's Comet, Part 4: Avatar Aang          91\n",
      "Name: count, Length: 61, dtype: int64\n",
      "\n",
      "KATARA: She effortlessly parries it. Cut to find a stream of his head, resembling flames to bed. \n",
      "AANG: Yeah, this is done right, it up some gloves. \n",
      "LONG.FENG: Don't you feel sick folks. [They both taking me? This place ... [He indicates to reveal his glider and use of the Avatar, huh. My name to look at him. \n",
      "FUNG: Welcome, Prince Zuko, which resulted in the line, there's a great western gate opening up his hands and walk by now? \n",
      "ZUKO: [Close-up.] The Boulder wins! \n",
      "KATARA: We're stuck in time, he begins to an airship; a demonstration, really. \n",
      "SCENE.DESCRIPTION: Cut to \n",
      "KATARA: WATER. "
     ]
    },
    {
     "ename": "IndexError",
     "evalue": "index -1 is out of bounds for axis 0 with size 0",
     "output_type": "error",
     "traceback": [
      "\u001b[0;31m---------------------------------------------------------------------------\u001b[0m",
      "\u001b[0;31mIndexError\u001b[0m                                Traceback (most recent call last)",
      "Cell \u001b[0;32mIn[2], line 62\u001b[0m\n\u001b[1;32m     60\u001b[0m word_pair \u001b[38;5;241m=\u001b[39m current_word_1 \u001b[38;5;241m+\u001b[39m \u001b[38;5;124m'\u001b[39m\u001b[38;5;124m \u001b[39m\u001b[38;5;124m'\u001b[39m \u001b[38;5;241m+\u001b[39m current_word_2\n\u001b[1;32m     61\u001b[0m probabilities \u001b[38;5;241m=\u001b[39m np\u001b[38;5;241m.\u001b[39marray(\u001b[38;5;28mlist\u001b[39m(next_word2[word_pair]\u001b[38;5;241m.\u001b[39mvalues())) \u001b[38;5;241m/\u001b[39m word_used2[word_pair]\n\u001b[0;32m---> 62\u001b[0m next_word_index \u001b[38;5;241m=\u001b[39m \u001b[43mstats\u001b[49m\u001b[38;5;241;43m.\u001b[39;49m\u001b[43mmultinomial\u001b[49m\u001b[43m(\u001b[49m\u001b[43mp\u001b[49m\u001b[38;5;241;43m=\u001b[39;49m\u001b[43mprobabilities\u001b[49m\u001b[43m,\u001b[49m\u001b[43m \u001b[49m\u001b[43mn\u001b[49m\u001b[38;5;241;43m=\u001b[39;49m\u001b[38;5;241;43m1\u001b[39;49m\u001b[43m)\u001b[49m\u001b[38;5;241m.\u001b[39mrvs(size\u001b[38;5;241m=\u001b[39m\u001b[38;5;241m1\u001b[39m)[\u001b[38;5;241m0\u001b[39m, :]\n\u001b[1;32m     63\u001b[0m current_word_1, current_word_2 \u001b[38;5;241m=\u001b[39m current_word_2, np\u001b[38;5;241m.\u001b[39marray(\u001b[38;5;28mlist\u001b[39m(next_word2[word_pair]\u001b[38;5;241m.\u001b[39mkeys()))[next_word_index \u001b[38;5;241m==\u001b[39m \u001b[38;5;241m1\u001b[39m][\u001b[38;5;241m0\u001b[39m]\n\u001b[1;32m     64\u001b[0m \u001b[38;5;28mprint\u001b[39m(current_word_2\u001b[38;5;241m.\u001b[39mreplace(\u001b[38;5;124m'\u001b[39m\u001b[38;5;124m_\u001b[39m\u001b[38;5;124m'\u001b[39m, \u001b[38;5;124m'\u001b[39m\u001b[38;5;124m'\u001b[39m)\u001b[38;5;241m.\u001b[39mreplace(\u001b[38;5;124m'\u001b[39m\u001b[38;5;124m-\u001b[39m\u001b[38;5;124m'\u001b[39m, \u001b[38;5;124m'\u001b[39m\u001b[38;5;124m'\u001b[39m), end\u001b[38;5;241m=\u001b[39m\u001b[38;5;124m'\u001b[39m\u001b[38;5;124m \u001b[39m\u001b[38;5;124m'\u001b[39m)\n",
      "File \u001b[0;32m/opt/conda/lib/python3.11/site-packages/scipy/stats/_multivariate.py:3190\u001b[0m, in \u001b[0;36mmultinomial_gen.__call__\u001b[0;34m(self, n, p, seed)\u001b[0m\n\u001b[1;32m   3185\u001b[0m \u001b[38;5;28;01mdef\u001b[39;00m \u001b[38;5;21m__call__\u001b[39m(\u001b[38;5;28mself\u001b[39m, n, p, seed\u001b[38;5;241m=\u001b[39m\u001b[38;5;28;01mNone\u001b[39;00m):\n\u001b[1;32m   3186\u001b[0m \u001b[38;5;250m    \u001b[39m\u001b[38;5;124;03m\"\"\"Create a frozen multinomial distribution.\u001b[39;00m\n\u001b[1;32m   3187\u001b[0m \n\u001b[1;32m   3188\u001b[0m \u001b[38;5;124;03m    See `multinomial_frozen` for more information.\u001b[39;00m\n\u001b[1;32m   3189\u001b[0m \u001b[38;5;124;03m    \"\"\"\u001b[39;00m\n\u001b[0;32m-> 3190\u001b[0m     \u001b[38;5;28;01mreturn\u001b[39;00m \u001b[43mmultinomial_frozen\u001b[49m\u001b[43m(\u001b[49m\u001b[43mn\u001b[49m\u001b[43m,\u001b[49m\u001b[43m \u001b[49m\u001b[43mp\u001b[49m\u001b[43m,\u001b[49m\u001b[43m \u001b[49m\u001b[43mseed\u001b[49m\u001b[43m)\u001b[49m\n",
      "File \u001b[0;32m/opt/conda/lib/python3.11/site-packages/scipy/stats/_multivariate.py:3427\u001b[0m, in \u001b[0;36mmultinomial_frozen.__init__\u001b[0;34m(self, n, p, seed)\u001b[0m\n\u001b[1;32m   3425\u001b[0m \u001b[38;5;28;01mdef\u001b[39;00m \u001b[38;5;21m__init__\u001b[39m(\u001b[38;5;28mself\u001b[39m, n, p, seed\u001b[38;5;241m=\u001b[39m\u001b[38;5;28;01mNone\u001b[39;00m):\n\u001b[1;32m   3426\u001b[0m     \u001b[38;5;28mself\u001b[39m\u001b[38;5;241m.\u001b[39m_dist \u001b[38;5;241m=\u001b[39m multinomial_gen(seed)\n\u001b[0;32m-> 3427\u001b[0m     \u001b[38;5;28mself\u001b[39m\u001b[38;5;241m.\u001b[39mn, \u001b[38;5;28mself\u001b[39m\u001b[38;5;241m.\u001b[39mp, \u001b[38;5;28mself\u001b[39m\u001b[38;5;241m.\u001b[39mnpcond \u001b[38;5;241m=\u001b[39m \u001b[38;5;28;43mself\u001b[39;49m\u001b[38;5;241;43m.\u001b[39;49m\u001b[43m_dist\u001b[49m\u001b[38;5;241;43m.\u001b[39;49m\u001b[43m_process_parameters\u001b[49m\u001b[43m(\u001b[49m\u001b[43mn\u001b[49m\u001b[43m,\u001b[49m\u001b[43m \u001b[49m\u001b[43mp\u001b[49m\u001b[43m)\u001b[49m\n\u001b[1;32m   3429\u001b[0m     \u001b[38;5;66;03m# monkey patch self._dist\u001b[39;00m\n\u001b[1;32m   3430\u001b[0m     \u001b[38;5;28;01mdef\u001b[39;00m \u001b[38;5;21m_process_parameters\u001b[39m(n, p):\n",
      "File \u001b[0;32m/opt/conda/lib/python3.11/site-packages/scipy/stats/_multivariate.py:3201\u001b[0m, in \u001b[0;36mmultinomial_gen._process_parameters\u001b[0;34m(self, n, p, eps)\u001b[0m\n\u001b[1;32m   3199\u001b[0m p_adjusted \u001b[38;5;241m=\u001b[39m \u001b[38;5;241m1.\u001b[39m \u001b[38;5;241m-\u001b[39m p[\u001b[38;5;241m.\u001b[39m\u001b[38;5;241m.\u001b[39m\u001b[38;5;241m.\u001b[39m, :\u001b[38;5;241m-\u001b[39m\u001b[38;5;241m1\u001b[39m]\u001b[38;5;241m.\u001b[39msum(axis\u001b[38;5;241m=\u001b[39m\u001b[38;5;241m-\u001b[39m\u001b[38;5;241m1\u001b[39m)\n\u001b[1;32m   3200\u001b[0m i_adjusted \u001b[38;5;241m=\u001b[39m np\u001b[38;5;241m.\u001b[39mabs(p_adjusted) \u001b[38;5;241m>\u001b[39m eps\n\u001b[0;32m-> 3201\u001b[0m \u001b[43mp\u001b[49m\u001b[43m[\u001b[49m\u001b[43mi_adjusted\u001b[49m\u001b[43m,\u001b[49m\u001b[43m \u001b[49m\u001b[38;5;241;43m-\u001b[39;49m\u001b[38;5;241;43m1\u001b[39;49m\u001b[43m]\u001b[49m \u001b[38;5;241m=\u001b[39m p_adjusted[i_adjusted]\n\u001b[1;32m   3203\u001b[0m \u001b[38;5;66;03m# true for bad p\u001b[39;00m\n\u001b[1;32m   3204\u001b[0m pcond \u001b[38;5;241m=\u001b[39m np\u001b[38;5;241m.\u001b[39many(p \u001b[38;5;241m<\u001b[39m \u001b[38;5;241m0\u001b[39m, axis\u001b[38;5;241m=\u001b[39m\u001b[38;5;241m-\u001b[39m\u001b[38;5;241m1\u001b[39m)\n",
      "\u001b[0;31mIndexError\u001b[0m: index -1 is out of bounds for axis 0 with size 0"
     ]
    }
   ],
   "source": [
    "#5. \n",
    "This section builds a first-order Markov chain, where each word is mapped to the next word with a count of how many times it appears after the first word. In simple terms:\n",
    "\n",
    "word_used keeps track of how many times each word has been used.\n",
    "next_word keeps track of the words that come after a given word and how frequently they appear.\n",
    "For example, if the word \"hello\" is followed by \"world\" 3 times, next_word[\"hello\"][\"world\"] will equal 3.\n",
    "\n",
    "Bigram: In this extension, the code is now using bigrams (two-word sequences) rather than just single words to predict the next word. It uses:\n",
    "\n",
    "word_used2 to count how many times each bigram (a two-word sequence) is used.\n",
    "next_word2 to store the possible words that follow a given bigram, along with how frequently each word follows.\n",
    "This makes the model more complex and context-aware by considering not just the last word but the last two words to predict the next one. This helps improve the quality of generated text by making it more coherent.\n",
    "\n",
    "This extension creates character-specific Markov chains. It separates the word sequences by character, making the model predict text based on what a specific character says. The key parts are:\n",
    "\n",
    "characters: This identifies and counts the characters in the dataset. It builds a Counter object based on the characters speaking in the text (e.g., \"KATARA:\", \"ZUKO:\", etc.).\n",
    "word_used2C: This tracks the bigrams for each character specifically. It counts how often a character uses a certain bigram (e.g., \"KATARA: Water Bending\").\n",
    "next_word2C: This keeps track of the possible next words that follow the bigrams, but again, separated by character. This means each character has their own Markov chain for generating text.\n",
    "By splitting the bigram chains based on characters, this allows the ChatBot to generate text that is more in line with how specific characters speak in the dataset. For instance, it will predict different words following a bigram based on whether the character is \"Katara\" or \"Zuko.\"\n",
    "\n",
    "Summary of Extensions:\n",
    "Bigram Model: The chatbot now considers pairs of words (bigrams) instead of single words, which helps generate more coherent and context-aware responses.\n",
    "Character-Specific Markov Chains: The chatbot generates responses that are specific to each character, allowing for more personalized and context-appropriate dialogue for each individual speaker."
   ]
  },
  {
   "cell_type": "code",
   "execution_count": 3,
   "id": "6073fbb3",
   "metadata": {},
   "outputs": [
    {
     "data": {
      "text/plain": [
       "5.0"
      ]
     },
     "execution_count": 3,
     "metadata": {},
     "output_type": "execute_result"
    }
   ],
   "source": [
    "6.  \n",
    "The ChatBot was quick to provide explanations for both the Monty Hall problem and the \"Markovian ChatBot\" code. For basic clarifications, it was helpful, providing accurate explanations and guiding through the concepts.\n",
    "\n",
    "Interacting with the ChatBot was occasionally frustrating when dealing with more complex code issues. Sometimes, explanations were too generalized, requiring multiple follow-ups to get to the core of the problem.\n",
    "\n",
    "Overall, ChatBots are useful tools for understanding code at a high level or for troubleshooting small issues. However, for deeper debugging or complex coding problems, they can be limited and may require more human intervention for detailed insights."
   ]
  },
  {
   "cell_type": "code",
   "execution_count": null,
   "id": "583720ee",
   "metadata": {},
   "outputs": [],
   "source": [
    "7. \n",
    "My perception of AI-driven assistance tools has evolved since joining the course. \n",
    "Initially, I viewed them as supplementary, helpful for quick answers or code generation. \n",
    "Over time, I’ve realized their value in explaining complex topics like coding, statistics, and data science concepts, breaking them down into digestible parts. \n",
    "However, their limitations, such as handling intricate errors or providing highly customized guidance, have become clearer. \n",
    "AI tools are excellent for quick learning, but deeper, nuanced problems often require more personalized, human-led approaches.\n",
    "\n",
    "\n",
    "\n",
    "\n",
    "\n",
    "\n"
   ]
  },
  {
   "cell_type": "code",
   "execution_count": null,
   "id": "5267ee2a",
   "metadata": {},
   "outputs": [],
   "source": [
    "\n",
    "1. Relevance of Skills in the Modern World:\n",
    "\n",
    "Learning and Adaptability: In the fast-paced world of technology and data science, continuous learning and adaptability are key. Industries are evolving rapidly, and staying updated with the latest tools, methods, and trends is essential for career growth.\n",
    "Communication: Data scientists and statisticians need to communicate complex results to non-technical stakeholders. Clear communication of insights from data is crucial for making informed business decisions.\n",
    "Coding: Coding is essential for automating tasks, analyzing data, and building models. Many industries require proficiency in languages like Python or R for data processing and machine learning.\n",
    "Statistics and Data Analysis: Understanding statistical methods and being able to analyze data are foundational to roles in data science. These skills help in extracting insights, building predictive models, and making data-driven decisions.\n",
    "These skills are integral in the data science industry, where roles like data scientists, machine learning engineers, and analysts rely on them to develop innovative solutions and provide actionable insights from vast amounts of data.\n",
    "\n",
    "2. It's difficult to be a full-fledged statistician or data scientist without proficiency in coding or data analysis. Coding allows you to automate data handling and model building, while data analysis ensures you can interpret results effectively. Both skills are key pillars of these roles. However, certain positions like data analyst assistants, subject matter experts, or business consultants may not require deep coding knowledge but still rely heavily on understanding statistics and communicating insights.\n",
    "\n",
    "Career Exploration Discussion: If you're exploring a career in data science or statistics, the most valuable skills you should focus on include:\n",
    "\n",
    "Coding (Python, R): Helps with automating workflows and handling large datasets.\n",
    "Statistics & Probability: A core foundation for modeling and interpreting data.\n",
    "Machine Learning & AI: Essential for predictive analytics and automation.\n",
    "Data Visualization (Tableau, Power BI): Critical for presenting insights.\n",
    "Domain Knowledge: Understanding the specific industry (e.g., finance, healthcare) helps in applying data science effectively.\n",
    "    \n",
    "3. In this ChatBot session, we discussed several key topics:\n",
    "\n",
    "Relevance of Modern Skills: We talked about how learning adaptability, communication, coding, and statistics are essential in today’s world, especially in the data science industry. These skills help professionals analyze data, automate tasks, and communicate insights effectively for decision-making.\n",
    "\n",
    "Monty Hall Problem Code: We explored a coding solution to simulate the Monty Hall problem, which helps understand probability and decision-making. The Python code uses loops and random choices to model the problem, illustrating how often switching doors leads to winning, thereby reinforcing the importance of statistical thinking.\n",
    "\n",
    "Markovian ChatBot Code:\n",
    "\n",
    "Base Markov Chain: This part of the code builds a first-order Markov chain that predicts the next word in a sequence based on the current word, useful for basic text generation.\n",
    "Bigram Extension: We discussed how the code was extended to use bigrams (two-word sequences) rather than single words, which provides more context and helps the chatbot generate more coherent text.\n",
    "Character-Specific Extension: This advanced feature creates separate Markov chains for each character in the dataset, allowing the chatbot to simulate different characters' speech patterns more accurately.\n",
    "Career Exploration: We considered whether one could be a statistician or data scientist without coding or data analysis, concluding that while certain roles may require less technical depth, coding and analysis are still crucial for many key roles. We also identified valuable skills for a career in data science, such as machine learning, data visualization, and domain knowledge.\n",
    "\n",
    "This session provided insights into practical coding challenges and broader career planning, combining technical and strategic advice.\n",
    "\n",
    "4. Reflection on Future Career and Skill Development: Through this conversation, I’ve realized the growing importance of developing a strong foundation in coding, statistics, and communication, particularly if I pursue a career in data science or a related field. Coding, especially in Python or R, is essential not only for automating tasks but also for analyzing data and building predictive models. At the same time, learning core statistical methods and improving my ability to present findings in a clear, digestible way is crucial for success.\n",
    "\n",
    "Moving forward, I plan to focus on strengthening my coding skills, perhaps through hands-on projects or more advanced courses in machine learning. Additionally, I'll work on improving my understanding of domain-specific knowledge, as applying data science effectively requires a grasp of the industry context. This reflection reinforces that continuous learning and adaptability are key to pursuing my career goals in a rapidly evolving field like data science.\n",
    "\n",
    "5. Thoughts on ChatBot Helpfulness and Next Steps: The ChatBot provided a good starting point, offering general insights and a high-level overview of the relevant skills and concepts for data science careers. It was helpful in clarifying basic coding techniques (like the Monty Hall problem and Markovian chatbot) and suggesting key skills for career development. However, it did lack the depth and specific industry insights that a subject matter expert could offer.\n",
    "\n",
    "To delve deeper, I would pursue more specialized resources, such as seeking mentorship from professionals in the field or enrolling in focused courses. These next steps would help bridge the gap between general knowledge and industry-specific expertise, allowing me to better understand the nuances of the career path I’m interested in. Additionally, networking with industry professionals and attending conferences or workshops could offer more practical, detailed insights into how to succeed in the data science industry."
   ]
  },
  {
   "cell_type": "code",
   "execution_count": null,
   "id": "13d075ca",
   "metadata": {},
   "outputs": [],
   "source": [
    "9. No"
   ]
  }
 ],
 "metadata": {
  "kernelspec": {
   "display_name": "Python 3 (ipykernel)",
   "language": "python",
   "name": "python3"
  },
  "language_info": {
   "codemirror_mode": {
    "name": "ipython",
    "version": 3
   },
   "file_extension": ".py",
   "mimetype": "text/x-python",
   "name": "python",
   "nbconvert_exporter": "python",
   "pygments_lexer": "ipython3",
   "version": "3.11.6"
  }
 },
 "nbformat": 4,
 "nbformat_minor": 5
}
